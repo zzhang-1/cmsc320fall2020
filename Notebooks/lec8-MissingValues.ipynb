{
 "cells": [
  {
   "cell_type": "code",
   "execution_count": 35,
   "metadata": {},
   "outputs": [],
   "source": [
    "import pandas as pd\n",
    "import numpy as np"
   ]
  },
  {
   "cell_type": "code",
   "execution_count": 36,
   "metadata": {},
   "outputs": [],
   "source": [
    "x = np.random.random((4,5))*10"
   ]
  },
  {
   "cell_type": "code",
   "execution_count": 37,
   "metadata": {},
   "outputs": [
    {
     "data": {
      "text/plain": [
       "array([[2.69515607, 5.56991534, 6.09253277, 8.78673693, 8.52339263],\n",
       "       [6.81398795, 5.77949884, 6.78977015, 2.11835156, 9.94219023],\n",
       "       [5.13237231, 0.02523581, 1.74647684, 2.43173549, 0.46395643],\n",
       "       [1.13847217, 9.51920618, 3.46075666, 0.10762818, 0.32464556]])"
      ]
     },
     "execution_count": 37,
     "metadata": {},
     "output_type": "execute_result"
    }
   ],
   "source": [
    "x"
   ]
  },
  {
   "cell_type": "code",
   "execution_count": 38,
   "metadata": {},
   "outputs": [],
   "source": [
    "x[x<0.5] = 0.0"
   ]
  },
  {
   "cell_type": "code",
   "execution_count": 39,
   "metadata": {},
   "outputs": [
    {
     "data": {
      "text/plain": [
       "array([[2.69515607, 5.56991534, 6.09253277, 8.78673693, 8.52339263],\n",
       "       [6.81398795, 5.77949884, 6.78977015, 2.11835156, 9.94219023],\n",
       "       [5.13237231, 0.        , 1.74647684, 2.43173549, 0.        ],\n",
       "       [1.13847217, 9.51920618, 3.46075666, 0.        , 0.        ]])"
      ]
     },
     "execution_count": 39,
     "metadata": {},
     "output_type": "execute_result"
    }
   ],
   "source": [
    "x"
   ]
  },
  {
   "cell_type": "code",
   "execution_count": 40,
   "metadata": {},
   "outputs": [],
   "source": [
    "df = pd.DataFrame(x)\n",
    "df1 = df.copy()"
   ]
  },
  {
   "cell_type": "code",
   "execution_count": 41,
   "metadata": {},
   "outputs": [
    {
     "data": {
      "text/html": [
       "<div>\n",
       "<style scoped>\n",
       "    .dataframe tbody tr th:only-of-type {\n",
       "        vertical-align: middle;\n",
       "    }\n",
       "\n",
       "    .dataframe tbody tr th {\n",
       "        vertical-align: top;\n",
       "    }\n",
       "\n",
       "    .dataframe thead th {\n",
       "        text-align: right;\n",
       "    }\n",
       "</style>\n",
       "<table border=\"1\" class=\"dataframe\">\n",
       "  <thead>\n",
       "    <tr style=\"text-align: right;\">\n",
       "      <th></th>\n",
       "      <th>0</th>\n",
       "      <th>1</th>\n",
       "      <th>2</th>\n",
       "      <th>3</th>\n",
       "      <th>4</th>\n",
       "    </tr>\n",
       "  </thead>\n",
       "  <tbody>\n",
       "    <tr>\n",
       "      <th>0</th>\n",
       "      <td>2.695156</td>\n",
       "      <td>5.569915</td>\n",
       "      <td>6.092533</td>\n",
       "      <td>8.786737</td>\n",
       "      <td>8.523393</td>\n",
       "    </tr>\n",
       "    <tr>\n",
       "      <th>1</th>\n",
       "      <td>6.813988</td>\n",
       "      <td>5.779499</td>\n",
       "      <td>6.789770</td>\n",
       "      <td>2.118352</td>\n",
       "      <td>9.942190</td>\n",
       "    </tr>\n",
       "    <tr>\n",
       "      <th>2</th>\n",
       "      <td>5.132372</td>\n",
       "      <td>0.000000</td>\n",
       "      <td>1.746477</td>\n",
       "      <td>2.431735</td>\n",
       "      <td>0.000000</td>\n",
       "    </tr>\n",
       "    <tr>\n",
       "      <th>3</th>\n",
       "      <td>1.138472</td>\n",
       "      <td>9.519206</td>\n",
       "      <td>3.460757</td>\n",
       "      <td>0.000000</td>\n",
       "      <td>0.000000</td>\n",
       "    </tr>\n",
       "  </tbody>\n",
       "</table>\n",
       "</div>"
      ],
      "text/plain": [
       "          0         1         2         3         4\n",
       "0  2.695156  5.569915  6.092533  8.786737  8.523393\n",
       "1  6.813988  5.779499  6.789770  2.118352  9.942190\n",
       "2  5.132372  0.000000  1.746477  2.431735  0.000000\n",
       "3  1.138472  9.519206  3.460757  0.000000  0.000000"
      ]
     },
     "execution_count": 41,
     "metadata": {},
     "output_type": "execute_result"
    }
   ],
   "source": [
    "df"
   ]
  },
  {
   "cell_type": "code",
   "execution_count": 42,
   "metadata": {},
   "outputs": [],
   "source": [
    "df.replace(0,np.nan,inplace=True)"
   ]
  },
  {
   "cell_type": "code",
   "execution_count": 43,
   "metadata": {},
   "outputs": [
    {
     "data": {
      "text/html": [
       "<div>\n",
       "<style scoped>\n",
       "    .dataframe tbody tr th:only-of-type {\n",
       "        vertical-align: middle;\n",
       "    }\n",
       "\n",
       "    .dataframe tbody tr th {\n",
       "        vertical-align: top;\n",
       "    }\n",
       "\n",
       "    .dataframe thead th {\n",
       "        text-align: right;\n",
       "    }\n",
       "</style>\n",
       "<table border=\"1\" class=\"dataframe\">\n",
       "  <thead>\n",
       "    <tr style=\"text-align: right;\">\n",
       "      <th></th>\n",
       "      <th>0</th>\n",
       "      <th>1</th>\n",
       "      <th>2</th>\n",
       "      <th>3</th>\n",
       "      <th>4</th>\n",
       "    </tr>\n",
       "  </thead>\n",
       "  <tbody>\n",
       "    <tr>\n",
       "      <th>0</th>\n",
       "      <td>2.695156</td>\n",
       "      <td>5.569915</td>\n",
       "      <td>6.092533</td>\n",
       "      <td>8.786737</td>\n",
       "      <td>8.523393</td>\n",
       "    </tr>\n",
       "    <tr>\n",
       "      <th>1</th>\n",
       "      <td>6.813988</td>\n",
       "      <td>5.779499</td>\n",
       "      <td>6.789770</td>\n",
       "      <td>2.118352</td>\n",
       "      <td>9.942190</td>\n",
       "    </tr>\n",
       "    <tr>\n",
       "      <th>2</th>\n",
       "      <td>5.132372</td>\n",
       "      <td>NaN</td>\n",
       "      <td>1.746477</td>\n",
       "      <td>2.431735</td>\n",
       "      <td>NaN</td>\n",
       "    </tr>\n",
       "    <tr>\n",
       "      <th>3</th>\n",
       "      <td>1.138472</td>\n",
       "      <td>9.519206</td>\n",
       "      <td>3.460757</td>\n",
       "      <td>NaN</td>\n",
       "      <td>NaN</td>\n",
       "    </tr>\n",
       "  </tbody>\n",
       "</table>\n",
       "</div>"
      ],
      "text/plain": [
       "          0         1         2         3         4\n",
       "0  2.695156  5.569915  6.092533  8.786737  8.523393\n",
       "1  6.813988  5.779499  6.789770  2.118352  9.942190\n",
       "2  5.132372       NaN  1.746477  2.431735       NaN\n",
       "3  1.138472  9.519206  3.460757       NaN       NaN"
      ]
     },
     "execution_count": 43,
     "metadata": {},
     "output_type": "execute_result"
    }
   ],
   "source": [
    "df"
   ]
  },
  {
   "cell_type": "code",
   "execution_count": 44,
   "metadata": {},
   "outputs": [
    {
     "data": {
      "text/html": [
       "<div>\n",
       "<style scoped>\n",
       "    .dataframe tbody tr th:only-of-type {\n",
       "        vertical-align: middle;\n",
       "    }\n",
       "\n",
       "    .dataframe tbody tr th {\n",
       "        vertical-align: top;\n",
       "    }\n",
       "\n",
       "    .dataframe thead th {\n",
       "        text-align: right;\n",
       "    }\n",
       "</style>\n",
       "<table border=\"1\" class=\"dataframe\">\n",
       "  <thead>\n",
       "    <tr style=\"text-align: right;\">\n",
       "      <th></th>\n",
       "      <th>0</th>\n",
       "      <th>1</th>\n",
       "      <th>2</th>\n",
       "      <th>3</th>\n",
       "      <th>4</th>\n",
       "    </tr>\n",
       "  </thead>\n",
       "  <tbody>\n",
       "    <tr>\n",
       "      <th>count</th>\n",
       "      <td>4.000000</td>\n",
       "      <td>3.000000</td>\n",
       "      <td>4.000000</td>\n",
       "      <td>3.000000</td>\n",
       "      <td>2.000000</td>\n",
       "    </tr>\n",
       "    <tr>\n",
       "      <th>mean</th>\n",
       "      <td>3.944997</td>\n",
       "      <td>6.956207</td>\n",
       "      <td>4.522384</td>\n",
       "      <td>4.445608</td>\n",
       "      <td>9.232791</td>\n",
       "    </tr>\n",
       "    <tr>\n",
       "      <th>std</th>\n",
       "      <td>2.521881</td>\n",
       "      <td>2.222095</td>\n",
       "      <td>2.340877</td>\n",
       "      <td>3.762792</td>\n",
       "      <td>1.003241</td>\n",
       "    </tr>\n",
       "    <tr>\n",
       "      <th>min</th>\n",
       "      <td>1.138472</td>\n",
       "      <td>5.569915</td>\n",
       "      <td>1.746477</td>\n",
       "      <td>2.118352</td>\n",
       "      <td>8.523393</td>\n",
       "    </tr>\n",
       "    <tr>\n",
       "      <th>25%</th>\n",
       "      <td>2.305985</td>\n",
       "      <td>5.674707</td>\n",
       "      <td>3.032187</td>\n",
       "      <td>2.275044</td>\n",
       "      <td>8.878092</td>\n",
       "    </tr>\n",
       "    <tr>\n",
       "      <th>50%</th>\n",
       "      <td>3.913764</td>\n",
       "      <td>5.779499</td>\n",
       "      <td>4.776645</td>\n",
       "      <td>2.431735</td>\n",
       "      <td>9.232791</td>\n",
       "    </tr>\n",
       "    <tr>\n",
       "      <th>75%</th>\n",
       "      <td>5.552776</td>\n",
       "      <td>7.649353</td>\n",
       "      <td>6.266842</td>\n",
       "      <td>5.609236</td>\n",
       "      <td>9.587491</td>\n",
       "    </tr>\n",
       "    <tr>\n",
       "      <th>max</th>\n",
       "      <td>6.813988</td>\n",
       "      <td>9.519206</td>\n",
       "      <td>6.789770</td>\n",
       "      <td>8.786737</td>\n",
       "      <td>9.942190</td>\n",
       "    </tr>\n",
       "  </tbody>\n",
       "</table>\n",
       "</div>"
      ],
      "text/plain": [
       "              0         1         2         3         4\n",
       "count  4.000000  3.000000  4.000000  3.000000  2.000000\n",
       "mean   3.944997  6.956207  4.522384  4.445608  9.232791\n",
       "std    2.521881  2.222095  2.340877  3.762792  1.003241\n",
       "min    1.138472  5.569915  1.746477  2.118352  8.523393\n",
       "25%    2.305985  5.674707  3.032187  2.275044  8.878092\n",
       "50%    3.913764  5.779499  4.776645  2.431735  9.232791\n",
       "75%    5.552776  7.649353  6.266842  5.609236  9.587491\n",
       "max    6.813988  9.519206  6.789770  8.786737  9.942190"
      ]
     },
     "execution_count": 44,
     "metadata": {},
     "output_type": "execute_result"
    }
   ],
   "source": [
    "df.describe()"
   ]
  },
  {
   "cell_type": "code",
   "execution_count": 45,
   "metadata": {},
   "outputs": [],
   "source": [
    "df.fillna(df.mean(),inplace=True)"
   ]
  },
  {
   "cell_type": "code",
   "execution_count": 46,
   "metadata": {},
   "outputs": [
    {
     "data": {
      "text/html": [
       "<div>\n",
       "<style scoped>\n",
       "    .dataframe tbody tr th:only-of-type {\n",
       "        vertical-align: middle;\n",
       "    }\n",
       "\n",
       "    .dataframe tbody tr th {\n",
       "        vertical-align: top;\n",
       "    }\n",
       "\n",
       "    .dataframe thead th {\n",
       "        text-align: right;\n",
       "    }\n",
       "</style>\n",
       "<table border=\"1\" class=\"dataframe\">\n",
       "  <thead>\n",
       "    <tr style=\"text-align: right;\">\n",
       "      <th></th>\n",
       "      <th>0</th>\n",
       "      <th>1</th>\n",
       "      <th>2</th>\n",
       "      <th>3</th>\n",
       "      <th>4</th>\n",
       "    </tr>\n",
       "  </thead>\n",
       "  <tbody>\n",
       "    <tr>\n",
       "      <th>0</th>\n",
       "      <td>2.695156</td>\n",
       "      <td>5.569915</td>\n",
       "      <td>6.092533</td>\n",
       "      <td>8.786737</td>\n",
       "      <td>8.523393</td>\n",
       "    </tr>\n",
       "    <tr>\n",
       "      <th>1</th>\n",
       "      <td>6.813988</td>\n",
       "      <td>5.779499</td>\n",
       "      <td>6.789770</td>\n",
       "      <td>2.118352</td>\n",
       "      <td>9.942190</td>\n",
       "    </tr>\n",
       "    <tr>\n",
       "      <th>2</th>\n",
       "      <td>5.132372</td>\n",
       "      <td>6.956207</td>\n",
       "      <td>1.746477</td>\n",
       "      <td>2.431735</td>\n",
       "      <td>9.232791</td>\n",
       "    </tr>\n",
       "    <tr>\n",
       "      <th>3</th>\n",
       "      <td>1.138472</td>\n",
       "      <td>9.519206</td>\n",
       "      <td>3.460757</td>\n",
       "      <td>4.445608</td>\n",
       "      <td>9.232791</td>\n",
       "    </tr>\n",
       "  </tbody>\n",
       "</table>\n",
       "</div>"
      ],
      "text/plain": [
       "          0         1         2         3         4\n",
       "0  2.695156  5.569915  6.092533  8.786737  8.523393\n",
       "1  6.813988  5.779499  6.789770  2.118352  9.942190\n",
       "2  5.132372  6.956207  1.746477  2.431735  9.232791\n",
       "3  1.138472  9.519206  3.460757  4.445608  9.232791"
      ]
     },
     "execution_count": 46,
     "metadata": {},
     "output_type": "execute_result"
    }
   ],
   "source": [
    "df"
   ]
  },
  {
   "cell_type": "code",
   "execution_count": 47,
   "metadata": {},
   "outputs": [
    {
     "data": {
      "text/html": [
       "<div>\n",
       "<style scoped>\n",
       "    .dataframe tbody tr th:only-of-type {\n",
       "        vertical-align: middle;\n",
       "    }\n",
       "\n",
       "    .dataframe tbody tr th {\n",
       "        vertical-align: top;\n",
       "    }\n",
       "\n",
       "    .dataframe thead th {\n",
       "        text-align: right;\n",
       "    }\n",
       "</style>\n",
       "<table border=\"1\" class=\"dataframe\">\n",
       "  <thead>\n",
       "    <tr style=\"text-align: right;\">\n",
       "      <th></th>\n",
       "      <th>0</th>\n",
       "      <th>1</th>\n",
       "      <th>2</th>\n",
       "      <th>3</th>\n",
       "      <th>4</th>\n",
       "    </tr>\n",
       "  </thead>\n",
       "  <tbody>\n",
       "    <tr>\n",
       "      <th>0</th>\n",
       "      <td>2.695156</td>\n",
       "      <td>5.569915</td>\n",
       "      <td>6.092533</td>\n",
       "      <td>8.786737</td>\n",
       "      <td>8.523393</td>\n",
       "    </tr>\n",
       "    <tr>\n",
       "      <th>1</th>\n",
       "      <td>6.813988</td>\n",
       "      <td>5.779499</td>\n",
       "      <td>6.789770</td>\n",
       "      <td>2.118352</td>\n",
       "      <td>9.942190</td>\n",
       "    </tr>\n",
       "    <tr>\n",
       "      <th>2</th>\n",
       "      <td>5.132372</td>\n",
       "      <td>0.000000</td>\n",
       "      <td>1.746477</td>\n",
       "      <td>2.431735</td>\n",
       "      <td>0.000000</td>\n",
       "    </tr>\n",
       "    <tr>\n",
       "      <th>3</th>\n",
       "      <td>1.138472</td>\n",
       "      <td>9.519206</td>\n",
       "      <td>3.460757</td>\n",
       "      <td>0.000000</td>\n",
       "      <td>0.000000</td>\n",
       "    </tr>\n",
       "  </tbody>\n",
       "</table>\n",
       "</div>"
      ],
      "text/plain": [
       "          0         1         2         3         4\n",
       "0  2.695156  5.569915  6.092533  8.786737  8.523393\n",
       "1  6.813988  5.779499  6.789770  2.118352  9.942190\n",
       "2  5.132372  0.000000  1.746477  2.431735  0.000000\n",
       "3  1.138472  9.519206  3.460757  0.000000  0.000000"
      ]
     },
     "execution_count": 47,
     "metadata": {},
     "output_type": "execute_result"
    }
   ],
   "source": [
    "df1"
   ]
  },
  {
   "cell_type": "code",
   "execution_count": 48,
   "metadata": {},
   "outputs": [],
   "source": [
    "df2 = df1.copy()"
   ]
  },
  {
   "cell_type": "code",
   "execution_count": 49,
   "metadata": {},
   "outputs": [],
   "source": [
    "df1.replace(0,np.nan,inplace=True)"
   ]
  },
  {
   "cell_type": "code",
   "execution_count": 50,
   "metadata": {},
   "outputs": [
    {
     "data": {
      "text/html": [
       "<div>\n",
       "<style scoped>\n",
       "    .dataframe tbody tr th:only-of-type {\n",
       "        vertical-align: middle;\n",
       "    }\n",
       "\n",
       "    .dataframe tbody tr th {\n",
       "        vertical-align: top;\n",
       "    }\n",
       "\n",
       "    .dataframe thead th {\n",
       "        text-align: right;\n",
       "    }\n",
       "</style>\n",
       "<table border=\"1\" class=\"dataframe\">\n",
       "  <thead>\n",
       "    <tr style=\"text-align: right;\">\n",
       "      <th></th>\n",
       "      <th>0</th>\n",
       "      <th>1</th>\n",
       "      <th>2</th>\n",
       "      <th>3</th>\n",
       "      <th>4</th>\n",
       "    </tr>\n",
       "  </thead>\n",
       "  <tbody>\n",
       "    <tr>\n",
       "      <th>0</th>\n",
       "      <td>2.695156</td>\n",
       "      <td>5.569915</td>\n",
       "      <td>6.092533</td>\n",
       "      <td>8.786737</td>\n",
       "      <td>8.523393</td>\n",
       "    </tr>\n",
       "    <tr>\n",
       "      <th>1</th>\n",
       "      <td>6.813988</td>\n",
       "      <td>5.779499</td>\n",
       "      <td>6.789770</td>\n",
       "      <td>2.118352</td>\n",
       "      <td>9.942190</td>\n",
       "    </tr>\n",
       "    <tr>\n",
       "      <th>2</th>\n",
       "      <td>5.132372</td>\n",
       "      <td>NaN</td>\n",
       "      <td>1.746477</td>\n",
       "      <td>2.431735</td>\n",
       "      <td>NaN</td>\n",
       "    </tr>\n",
       "    <tr>\n",
       "      <th>3</th>\n",
       "      <td>1.138472</td>\n",
       "      <td>9.519206</td>\n",
       "      <td>3.460757</td>\n",
       "      <td>NaN</td>\n",
       "      <td>NaN</td>\n",
       "    </tr>\n",
       "  </tbody>\n",
       "</table>\n",
       "</div>"
      ],
      "text/plain": [
       "          0         1         2         3         4\n",
       "0  2.695156  5.569915  6.092533  8.786737  8.523393\n",
       "1  6.813988  5.779499  6.789770  2.118352  9.942190\n",
       "2  5.132372       NaN  1.746477  2.431735       NaN\n",
       "3  1.138472  9.519206  3.460757       NaN       NaN"
      ]
     },
     "execution_count": 50,
     "metadata": {},
     "output_type": "execute_result"
    }
   ],
   "source": [
    "df1"
   ]
  },
  {
   "cell_type": "code",
   "execution_count": 51,
   "metadata": {},
   "outputs": [],
   "source": [
    "df1.fillna(method='ffill',inplace=True)"
   ]
  },
  {
   "cell_type": "code",
   "execution_count": 52,
   "metadata": {},
   "outputs": [
    {
     "data": {
      "text/html": [
       "<div>\n",
       "<style scoped>\n",
       "    .dataframe tbody tr th:only-of-type {\n",
       "        vertical-align: middle;\n",
       "    }\n",
       "\n",
       "    .dataframe tbody tr th {\n",
       "        vertical-align: top;\n",
       "    }\n",
       "\n",
       "    .dataframe thead th {\n",
       "        text-align: right;\n",
       "    }\n",
       "</style>\n",
       "<table border=\"1\" class=\"dataframe\">\n",
       "  <thead>\n",
       "    <tr style=\"text-align: right;\">\n",
       "      <th></th>\n",
       "      <th>0</th>\n",
       "      <th>1</th>\n",
       "      <th>2</th>\n",
       "      <th>3</th>\n",
       "      <th>4</th>\n",
       "    </tr>\n",
       "  </thead>\n",
       "  <tbody>\n",
       "    <tr>\n",
       "      <th>0</th>\n",
       "      <td>2.695156</td>\n",
       "      <td>5.569915</td>\n",
       "      <td>6.092533</td>\n",
       "      <td>8.786737</td>\n",
       "      <td>8.523393</td>\n",
       "    </tr>\n",
       "    <tr>\n",
       "      <th>1</th>\n",
       "      <td>6.813988</td>\n",
       "      <td>5.779499</td>\n",
       "      <td>6.789770</td>\n",
       "      <td>2.118352</td>\n",
       "      <td>9.942190</td>\n",
       "    </tr>\n",
       "    <tr>\n",
       "      <th>2</th>\n",
       "      <td>5.132372</td>\n",
       "      <td>5.779499</td>\n",
       "      <td>1.746477</td>\n",
       "      <td>2.431735</td>\n",
       "      <td>9.942190</td>\n",
       "    </tr>\n",
       "    <tr>\n",
       "      <th>3</th>\n",
       "      <td>1.138472</td>\n",
       "      <td>9.519206</td>\n",
       "      <td>3.460757</td>\n",
       "      <td>2.431735</td>\n",
       "      <td>9.942190</td>\n",
       "    </tr>\n",
       "  </tbody>\n",
       "</table>\n",
       "</div>"
      ],
      "text/plain": [
       "          0         1         2         3         4\n",
       "0  2.695156  5.569915  6.092533  8.786737  8.523393\n",
       "1  6.813988  5.779499  6.789770  2.118352  9.942190\n",
       "2  5.132372  5.779499  1.746477  2.431735  9.942190\n",
       "3  1.138472  9.519206  3.460757  2.431735  9.942190"
      ]
     },
     "execution_count": 52,
     "metadata": {},
     "output_type": "execute_result"
    }
   ],
   "source": [
    "df1"
   ]
  },
  {
   "cell_type": "code",
   "execution_count": null,
   "metadata": {},
   "outputs": [],
   "source": []
  }
 ],
 "metadata": {
  "kernelspec": {
   "display_name": "Python 3",
   "language": "python",
   "name": "python3"
  },
  "language_info": {
   "codemirror_mode": {
    "name": "ipython",
    "version": 3
   },
   "file_extension": ".py",
   "mimetype": "text/x-python",
   "name": "python",
   "nbconvert_exporter": "python",
   "pygments_lexer": "ipython3",
   "version": "3.7.3"
  }
 },
 "nbformat": 4,
 "nbformat_minor": 2
}
